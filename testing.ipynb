{
  "nbformat": 4,
  "nbformat_minor": 0,
  "metadata": {
    "colab": {
      "name": "testing.ipynb",
      "provenance": [],
      "collapsed_sections": []
    },
    "kernelspec": {
      "name": "python3",
      "display_name": "Python 3"
    },
    "language_info": {
      "name": "python"
    }
  },
  "cells": [
    {
      "cell_type": "markdown",
      "source": [
        "**Importing packages and libraries**"
      ],
      "metadata": {
        "id": "6Ckf_nhRMOK8"
      }
    },
    {
      "cell_type": "code",
      "source": [
        "import matplotlib.pyplot as plt\n",
        "from tensorflow import keras\n",
        "import tensorflow as tf\n",
        "import numpy as np\n",
        "from keras.preprocessing.image import ImageDataGenerator\n",
        "from keras.preprocessing import image\n",
        "import os\n",
        "import tensorflow as tf\n",
        "import pandas as pd\n"
      ],
      "metadata": {
        "id": "7L2WidtyVvIh"
      },
      "execution_count": null,
      "outputs": []
    },
    {
      "cell_type": "markdown",
      "source": [
        "**Preprocessing test dataset**"
      ],
      "metadata": {
        "id": "y8ZOdslEMVzj"
      }
    },
    {
      "cell_type": "code",
      "source": [
        "base_dir = \"D:/Land use recognition/data\"\n",
        "batch_size = 30\n",
        "test_datagen = ImageDataGenerator(rescale=1./227,\n",
        "                                   shear_range=0,\n",
        "                                   zoom_range=0,\n",
        "                                   width_shift_range=0,\n",
        "                                   height_shift_range=0,\n",
        "                                   fill_mode='nearest')\n",
        "\n",
        "test_set = test_datagen.flow_from_directory(base_dir+'/test',\n",
        "                                            target_size=(64, 64),\n",
        "                                            batch_size=batch_size,\n",
        "                                            class_mode='categorical')"
      ],
      "metadata": {
        "colab": {
          "base_uri": "https://localhost:8080/"
        },
        "id": "jyn40QMcUDTe",
        "outputId": "513e2a56-5aee-453b-f5fb-59bfbf38a8c7"
      },
      "execution_count": null,
      "outputs": [
        {
          "output_type": "stream",
          "name": "stdout",
          "text": [
            "Found 900 images belonging to 20 classes.\n"
          ]
        }
      ]
    },
    {
      "cell_type": "markdown",
      "source": [
        "**Loading the model**"
      ],
      "metadata": {
        "id": "t9ccMmfWMrmF"
      }
    },
    {
      "cell_type": "code",
      "source": [
        "from keras.models import load_model\n",
        "model_path = \"D:/Land use recognition/LandUseModelFinaltransfer.h5\"\n",
        "model = load_model(model_path)\n",
        "model.summary()"
      ],
      "metadata": {
        "colab": {
          "base_uri": "https://localhost:8080/"
        },
        "id": "8zF3VQyOWJ9u",
        "outputId": "bca92c66-bd0d-4c7a-c2cc-4e798e07de2a"
      },
      "execution_count": null,
      "outputs": [
        {
          "output_type": "stream",
          "name": "stdout",
          "text": [
            "Model: \"sequential_1\"\n",
            "_________________________________________________________________\n",
            " Layer (type)                Output Shape              Param #   \n",
            "=================================================================\n",
            " block1_conv1 (Conv2D)       (None, 64, 64, 64)        1792      \n",
            "                                                                 \n",
            " block1_conv2 (Conv2D)       (None, 64, 64, 64)        36928     \n",
            "                                                                 \n",
            " block1_pool (MaxPooling2D)  (None, 32, 32, 64)        0         \n",
            "                                                                 \n",
            " block2_conv1 (Conv2D)       (None, 32, 32, 128)       73856     \n",
            "                                                                 \n",
            " block2_conv2 (Conv2D)       (None, 32, 32, 128)       147584    \n",
            "                                                                 \n",
            " block2_pool (MaxPooling2D)  (None, 16, 16, 128)       0         \n",
            "                                                                 \n",
            " block3_conv1 (Conv2D)       (None, 16, 16, 256)       295168    \n",
            "                                                                 \n",
            " block3_conv2 (Conv2D)       (None, 16, 16, 256)       590080    \n",
            "                                                                 \n",
            " block3_conv3 (Conv2D)       (None, 16, 16, 256)       590080    \n",
            "                                                                 \n",
            " block3_pool (MaxPooling2D)  (None, 8, 8, 256)         0         \n",
            "                                                                 \n",
            " block4_conv1 (Conv2D)       (None, 8, 8, 512)         1180160   \n",
            "                                                                 \n",
            " block4_conv2 (Conv2D)       (None, 8, 8, 512)         2359808   \n",
            "                                                                 \n",
            " block4_conv3 (Conv2D)       (None, 8, 8, 512)         2359808   \n",
            "                                                                 \n",
            " block4_pool (MaxPooling2D)  (None, 4, 4, 512)         0         \n",
            "                                                                 \n",
            " block5_conv1 (Conv2D)       (None, 4, 4, 512)         2359808   \n",
            "                                                                 \n",
            " block5_conv2 (Conv2D)       (None, 4, 4, 512)         2359808   \n",
            "                                                                 \n",
            " block5_conv3 (Conv2D)       (None, 4, 4, 512)         2359808   \n",
            "                                                                 \n",
            " block5_pool (MaxPooling2D)  (None, 2, 2, 512)         0         \n",
            "                                                                 \n",
            " flatten_1 (Flatten)         (None, 2048)              0         \n",
            "                                                                 \n",
            " dense_3 (Dense)             (None, 512)               1049088   \n",
            "                                                                 \n",
            " dense_4 (Dense)             (None, 512)               262656    \n",
            "                                                                 \n",
            " dense_5 (Dense)             (None, 20)                10260     \n",
            "                                                                 \n",
            "=================================================================\n",
            "Total params: 16,036,692\n",
            "Trainable params: 14,891,284\n",
            "Non-trainable params: 1,145,408\n",
            "_________________________________________________________________\n"
          ]
        }
      ]
    },
    {
      "cell_type": "code",
      "source": [
        "testdir='D:/Land use recognition/data/test/'\n",
        "types=[]\n",
        "fol=[]\n",
        "fil=[]\n",
        "fol = os.listdir(testdir)\n",
        "types = os.listdir(testdir)\n",
        "cor=0"
      ],
      "metadata": {
        "id": "Zx8GXvY-Wo68"
      },
      "execution_count": null,
      "outputs": []
    },
    {
      "cell_type": "code",
      "source": [
        "for i in fol:\n",
        "  fil=os.listdir(testdir+'/'+i)\n",
        "  for j in fil:\n",
        "    img = image.load_img(testdir+'/'+i+'/'+j, target_size=(64, 64))\n",
        "    img_tensor = image.img_to_array(img)\n",
        "    img_tensor = np.expand_dims(img_tensor, axis=0)\n",
        "    img_tensor /= 255.\n",
        "    x = image.img_to_array(img)\n",
        "    x = np.expand_dims(x, axis=0)\n",
        "\n",
        "    images = np.vstack([x])\n",
        "    typ=model.predict(images) \n",
        "    preds=np.argmax(typ,axis=1)\n",
        "    index=preds[0]\n",
        "    if i == types[index]:\n",
        "      cor=cor+1\n"
      ],
      "metadata": {
        "id": "bbIpSZxGB9f2"
      },
      "execution_count": null,
      "outputs": []
    },
    {
      "cell_type": "code",
      "source": [
        "percent=(cor/900)*100\n",
        "print(\"Testing accuracy :\",percent)"
      ],
      "metadata": {
        "colab": {
          "base_uri": "https://localhost:8080/"
        },
        "id": "o-mq4yJjWutI",
        "outputId": "df18bfbb-54a3-4dc5-aa6c-3ee17527cce6"
      },
      "execution_count": null,
      "outputs": [
        {
          "output_type": "stream",
          "name": "stdout",
          "text": [
            "Testing accuracy : 78.55555555555556\n"
          ]
        }
      ]
    },
    {
      "cell_type": "code",
      "source": [
        "img_path = testdir + 'freeway/freeway_000099.png'\n",
        "\n",
        "img = image.load_img(img_path, target_size=(64, 64))\n",
        "img_tensor = image.img_to_array(img)\n",
        "img_tensor = np.expand_dims(img_tensor, axis=0)\n",
        "img_tensor /= 255.\n",
        "\n",
        "plt.imshow(img_tensor[0])\n",
        "plt.show()\n",
        "\n",
        "print(img_tensor.shape)"
      ],
      "metadata": {
        "colab": {
          "base_uri": "https://localhost:8080/",
          "height": 285
        },
        "id": "6umAOKjTu7Qv",
        "outputId": "1332cdab-5425-4e66-a288-88429794a91d"
      },
      "execution_count": null,
      "outputs": [
        {
          "output_type": "display_data",
          "data": {
            "text/plain": [
              "<Figure size 432x288 with 1 Axes>"
            ],
            "image/png": "[encoded data removed]"
          },
          "metadata": {
            "needs_background": "light"
          }
        },
        {
          "output_type": "stream",
          "name": "stdout",
          "text": [
            "(1, 64, 64, 3)\n"
          ]
        }
      ]
    },
    {
      "cell_type": "code",
      "source": [
        "cat=['agricultural',\n",
        " 'airplane',\n",
        " 'baseballdiamond',\n",
        " 'beach',\n",
        " 'buildings',\n",
        " 'chaparral',\n",
        " 'denseresidential',\n",
        " 'forest',\n",
        " 'freeway',\n",
        " 'golfcourse',\n",
        " 'harbor',\n",
        " 'intersection',\n",
        " 'mediumresidential',\n",
        " 'mobilehomepark',\n",
        " 'overpass',\n",
        " 'parkinglot',\n",
        " 'river',\n",
        " 'runway',\n",
        " 'storagetanks',\n",
        " 'tenniscourt']\n",
        "print(cat)"
      ],
      "metadata": {
        "colab": {
          "base_uri": "https://localhost:8080/"
        },
        "id": "zsHZplWevaSg",
        "outputId": "18a95c74-5612-4176-f4ae-b5cc8399a74c"
      },
      "execution_count": null,
      "outputs": [
        {
          "output_type": "stream",
          "name": "stdout",
          "text": [
            "['agricultural', 'airplane', 'baseballdiamond', 'beach', 'buildings', 'chaparral', 'denseresidential', 'forest', 'freeway', 'golfcourse', 'harbor', 'intersection', 'mediumresidential', 'mobilehomepark', 'overpass', 'parkinglot', 'river', 'runway', 'storagetanks', 'tenniscourt']\n"
          ]
        }
      ]
    },
    {
      "cell_type": "code",
      "source": [
        "x = image.img_to_array(img)\n",
        "x = np.expand_dims(x, axis=0)\n",
        "\n",
        "images = np.vstack([x])\n",
        "predict=model.predict(images) \n",
        "classes=np.argmax(predict,axis=1)\n",
        "index=classes[0]\n",
        "print(\"Predicted class is:\",cat[index])"
      ],
      "metadata": {
        "colab": {
          "base_uri": "https://localhost:8080/"
        },
        "id": "fRoCZqvdvPDg",
        "outputId": "ab787bc8-b180-4902-9152-dcd0a9ab6ffa"
      },
      "execution_count": null,
      "outputs": [
        {
          "output_type": "stream",
          "name": "stdout",
          "text": [
            "Predicted class is: freeway\n"
          ]
        }
      ]
    }
  ]
}