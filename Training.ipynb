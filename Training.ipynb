{
  "cells": [
    {
      "cell_type": "markdown",
      "source": [
        "**Importing Packages and Libraries**"
      ],
      "metadata": {
        "id": "hGvBaqzPKRTh"
      }
    },
    {
      "cell_type": "code",
      "execution_count": 43,
      "metadata": {
        "id": "LV-5yvg_QyIs"
      },
      "outputs": [],
      "source": [
        "from keras.models import Sequential\n",
        "from keras.layers import Convolution2D\n",
        "from keras.layers import MaxPooling2D\n",
        "from keras.layers import Flatten\n",
        "from keras.layers import Dense\n",
        "from keras.layers import Dropout\n",
        "import matplotlib.pyplot as plt\n",
        "import os\n",
        "from tensorflow import keras\n",
        "from keras.models import Sequential\n",
        "from keras.layers import Conv2D\n",
        "from keras.layers import MaxPool2D\n",
        "from keras.layers import Flatten\n",
        "from keras.layers import Dense\n",
        "from keras.layers import Dropout\n",
        "from tensorflow.keras.layers import BatchNormalization\n",
        "from sklearn.metrics import confusion_matrix\n",
        "import itertools\n",
        "from tensorflow.keras.optimizers import Adam"
      ]
    },
    {
      "cell_type": "markdown",
      "source": [
        "**Building the Simple CNN**"
      ],
      "metadata": {
        "id": "8GpU1UN3KmwX"
      }
    },
    {
      "cell_type": "code",
      "source": [
        "vgg16_model = keras.applications.vgg16.VGG16(include_top=False, input_shape=(64,64,3))\n",
        "vgg16_model.summary()"
      ],
      "metadata": {
        "colab": {
          "base_uri": "https://localhost:8080/"
        },
        "id": "JCxmKIyLXd5F",
        "outputId": "a1e6252e-2a17-40a2-8d9e-767747aff192"
      },
      "execution_count": 17,
      "outputs": [
        {
          "output_type": "stream",
          "name": "stdout",
          "text": [
            "Model: \"vgg16\"\n",
            "_________________________________________________________________\n",
            " Layer (type)                Output Shape              Param #   \n",
            "=================================================================\n",
            " input_2 (InputLayer)        [(None, 64, 64, 3)]       0         \n",
            "                                                                 \n",
            " block1_conv1 (Conv2D)       (None, 64, 64, 64)        1792      \n",
            "                                                                 \n",
            " block1_conv2 (Conv2D)       (None, 64, 64, 64)        36928     \n",
            "                                                                 \n",
            " block1_pool (MaxPooling2D)  (None, 32, 32, 64)        0         \n",
            "                                                                 \n",
            " block2_conv1 (Conv2D)       (None, 32, 32, 128)       73856     \n",
            "                                                                 \n",
            " block2_conv2 (Conv2D)       (None, 32, 32, 128)       147584    \n",
            "                                                                 \n",
            " block2_pool (MaxPooling2D)  (None, 16, 16, 128)       0         \n",
            "                                                                 \n",
            " block3_conv1 (Conv2D)       (None, 16, 16, 256)       295168    \n",
            "                                                                 \n",
            " block3_conv2 (Conv2D)       (None, 16, 16, 256)       590080    \n",
            "                                                                 \n",
            " block3_conv3 (Conv2D)       (None, 16, 16, 256)       590080    \n",
            "                                                                 \n",
            " block3_pool (MaxPooling2D)  (None, 8, 8, 256)         0         \n",
            "                                                                 \n",
            " block4_conv1 (Conv2D)       (None, 8, 8, 512)         1180160   \n",
            "                                                                 \n",
            " block4_conv2 (Conv2D)       (None, 8, 8, 512)         2359808   \n",
            "                                                                 \n",
            " block4_conv3 (Conv2D)       (None, 8, 8, 512)         2359808   \n",
            "                                                                 \n",
            " block4_pool (MaxPooling2D)  (None, 4, 4, 512)         0         \n",
            "                                                                 \n",
            " block5_conv1 (Conv2D)       (None, 4, 4, 512)         2359808   \n",
            "                                                                 \n",
            " block5_conv2 (Conv2D)       (None, 4, 4, 512)         2359808   \n",
            "                                                                 \n",
            " block5_conv3 (Conv2D)       (None, 4, 4, 512)         2359808   \n",
            "                                                                 \n",
            " block5_pool (MaxPooling2D)  (None, 2, 2, 512)         0         \n",
            "                                                                 \n",
            "=================================================================\n",
            "Total params: 14,714,688\n",
            "Trainable params: 14,714,688\n",
            "Non-trainable params: 0\n",
            "_________________________________________________________________\n"
          ]
        }
      ]
    },
    {
      "cell_type": "code",
      "source": [
        "model = Sequential()\n",
        "for layer in vgg16_model.layers:\n",
        "    if \"pool\" in layer.name:\n",
        "        model.add(BatchNormalization())\n",
        "    model.add(layer)"
      ],
      "metadata": {
        "id": "T66GORDc40D2"
      },
      "execution_count": 18,
      "outputs": []
    },
    {
      "cell_type": "code",
      "source": [
        "NUM_TRAINABLE_LAYERS = len(vgg16_model.layers) - 3\n",
        "for layer in model.layers[:-NUM_TRAINABLE_LAYERS]:\n",
        "    layer.trainable = False"
      ],
      "metadata": {
        "id": "9zljaaAQ43f0"
      },
      "execution_count": 19,
      "outputs": []
    },
    {
      "cell_type": "code",
      "source": [
        "model.add(Flatten())\n",
        "model.add(Dense(512, activation='relu'))\n",
        "model.add(BatchNormalization())\n",
        "model.add(Dense(512, activation='relu'))\n",
        "model.add(Dense(20, activation='softmax'))"
      ],
      "metadata": {
        "id": "TUbzeim_46A1"
      },
      "execution_count": 20,
      "outputs": []
    },
    {
      "cell_type": "code",
      "source": [
        "model.summary()"
      ],
      "metadata": {
        "colab": {
          "base_uri": "https://localhost:8080/"
        },
        "id": "cWyvIIkj5Uuj",
        "outputId": "d8451690-52ab-4132-ba58-79faa8ed850b"
      },
      "execution_count": 21,
      "outputs": [
        {
          "output_type": "stream",
          "name": "stdout",
          "text": [
            "Model: \"sequential\"\n",
            "_________________________________________________________________\n",
            " Layer (type)                Output Shape              Param #   \n",
            "=================================================================\n",
            " block1_conv1 (Conv2D)       (None, 64, 64, 64)        1792      \n",
            "                                                                 \n",
            " block1_conv2 (Conv2D)       (None, 64, 64, 64)        36928     \n",
            "                                                                 \n",
            " batch_normalization (BatchN  (None, 64, 64, 64)       256       \n",
            " ormalization)                                                   \n",
            "                                                                 \n",
            " block1_pool (MaxPooling2D)  (None, 32, 32, 64)        0         \n",
            "                                                                 \n",
            " block2_conv1 (Conv2D)       (None, 32, 32, 128)       73856     \n",
            "                                                                 \n",
            " block2_conv2 (Conv2D)       (None, 32, 32, 128)       147584    \n",
            "                                                                 \n",
            " batch_normalization_1 (Batc  (None, 32, 32, 128)      512       \n",
            " hNormalization)                                                 \n",
            "                                                                 \n",
            " block2_pool (MaxPooling2D)  (None, 16, 16, 128)       0         \n",
            "                                                                 \n",
            " block3_conv1 (Conv2D)       (None, 16, 16, 256)       295168    \n",
            "                                                                 \n",
            " block3_conv2 (Conv2D)       (None, 16, 16, 256)       590080    \n",
            "                                                                 \n",
            " block3_conv3 (Conv2D)       (None, 16, 16, 256)       590080    \n",
            "                                                                 \n",
            " batch_normalization_2 (Batc  (None, 16, 16, 256)      1024      \n",
            " hNormalization)                                                 \n",
            "                                                                 \n",
            " block3_pool (MaxPooling2D)  (None, 8, 8, 256)         0         \n",
            "                                                                 \n",
            " block4_conv1 (Conv2D)       (None, 8, 8, 512)         1180160   \n",
            "                                                                 \n",
            " block4_conv2 (Conv2D)       (None, 8, 8, 512)         2359808   \n",
            "                                                                 \n",
            " block4_conv3 (Conv2D)       (None, 8, 8, 512)         2359808   \n",
            "                                                                 \n",
            " batch_normalization_3 (Batc  (None, 8, 8, 512)        2048      \n",
            " hNormalization)                                                 \n",
            "                                                                 \n",
            " block4_pool (MaxPooling2D)  (None, 4, 4, 512)         0         \n",
            "                                                                 \n",
            " block5_conv1 (Conv2D)       (None, 4, 4, 512)         2359808   \n",
            "                                                                 \n",
            " block5_conv2 (Conv2D)       (None, 4, 4, 512)         2359808   \n",
            "                                                                 \n",
            " block5_conv3 (Conv2D)       (None, 4, 4, 512)         2359808   \n",
            "                                                                 \n",
            " batch_normalization_4 (Batc  (None, 4, 4, 512)        2048      \n",
            " hNormalization)                                                 \n",
            "                                                                 \n",
            " block5_pool (MaxPooling2D)  (None, 2, 2, 512)         0         \n",
            "                                                                 \n",
            " flatten (Flatten)           (None, 2048)              0         \n",
            "                                                                 \n",
            " dense (Dense)               (None, 512)               1049088   \n",
            "                                                                 \n",
            " batch_normalization_5 (Batc  (None, 512)              2048      \n",
            " hNormalization)                                                 \n",
            "                                                                 \n",
            " dense_1 (Dense)             (None, 512)               262656    \n",
            "                                                                 \n",
            " dense_2 (Dense)             (None, 20)                10260     \n",
            "                                                                 \n",
            "=================================================================\n",
            "Total params: 16,044,628\n",
            "Trainable params: 15,780,116\n",
            "Non-trainable params: 264,512\n",
            "_________________________________________________________________\n"
          ]
        }
      ]
    },
    {
      "cell_type": "markdown",
      "source": [
        "**Simple CNN Compiling**"
      ],
      "metadata": {
        "id": "l_9n0_xMK4-W"
      }
    },
    {
      "cell_type": "code",
      "execution_count": 22,
      "metadata": {
        "id": "VchSA6YQQ9U1",
        "colab": {
          "base_uri": "https://localhost:8080/"
        },
        "outputId": "6f28d969-e3ed-444c-c3d7-d488b01c9a13"
      },
      "outputs": [
        {
          "output_type": "stream",
          "name": "stdout",
          "text": [
            "Model: \"sequential\"\n",
            "_________________________________________________________________\n",
            " Layer (type)                Output Shape              Param #   \n",
            "=================================================================\n",
            " block1_conv1 (Conv2D)       (None, 64, 64, 64)        1792      \n",
            "                                                                 \n",
            " block1_conv2 (Conv2D)       (None, 64, 64, 64)        36928     \n",
            "                                                                 \n",
            " batch_normalization (BatchN  (None, 64, 64, 64)       256       \n",
            " ormalization)                                                   \n",
            "                                                                 \n",
            " block1_pool (MaxPooling2D)  (None, 32, 32, 64)        0         \n",
            "                                                                 \n",
            " block2_conv1 (Conv2D)       (None, 32, 32, 128)       73856     \n",
            "                                                                 \n",
            " block2_conv2 (Conv2D)       (None, 32, 32, 128)       147584    \n",
            "                                                                 \n",
            " batch_normalization_1 (Batc  (None, 32, 32, 128)      512       \n",
            " hNormalization)                                                 \n",
            "                                                                 \n",
            " block2_pool (MaxPooling2D)  (None, 16, 16, 128)       0         \n",
            "                                                                 \n",
            " block3_conv1 (Conv2D)       (None, 16, 16, 256)       295168    \n",
            "                                                                 \n",
            " block3_conv2 (Conv2D)       (None, 16, 16, 256)       590080    \n",
            "                                                                 \n",
            " block3_conv3 (Conv2D)       (None, 16, 16, 256)       590080    \n",
            "                                                                 \n",
            " batch_normalization_2 (Batc  (None, 16, 16, 256)      1024      \n",
            " hNormalization)                                                 \n",
            "                                                                 \n",
            " block3_pool (MaxPooling2D)  (None, 8, 8, 256)         0         \n",
            "                                                                 \n",
            " block4_conv1 (Conv2D)       (None, 8, 8, 512)         1180160   \n",
            "                                                                 \n",
            " block4_conv2 (Conv2D)       (None, 8, 8, 512)         2359808   \n",
            "                                                                 \n",
            " block4_conv3 (Conv2D)       (None, 8, 8, 512)         2359808   \n",
            "                                                                 \n",
            " batch_normalization_3 (Batc  (None, 8, 8, 512)        2048      \n",
            " hNormalization)                                                 \n",
            "                                                                 \n",
            " block4_pool (MaxPooling2D)  (None, 4, 4, 512)         0         \n",
            "                                                                 \n",
            " block5_conv1 (Conv2D)       (None, 4, 4, 512)         2359808   \n",
            "                                                                 \n",
            " block5_conv2 (Conv2D)       (None, 4, 4, 512)         2359808   \n",
            "                                                                 \n",
            " block5_conv3 (Conv2D)       (None, 4, 4, 512)         2359808   \n",
            "                                                                 \n",
            " batch_normalization_4 (Batc  (None, 4, 4, 512)        2048      \n",
            " hNormalization)                                                 \n",
            "                                                                 \n",
            " block5_pool (MaxPooling2D)  (None, 2, 2, 512)         0         \n",
            "                                                                 \n",
            " flatten (Flatten)           (None, 2048)              0         \n",
            "                                                                 \n",
            " dense (Dense)               (None, 512)               1049088   \n",
            "                                                                 \n",
            " batch_normalization_5 (Batc  (None, 512)              2048      \n",
            " hNormalization)                                                 \n",
            "                                                                 \n",
            " dense_1 (Dense)             (None, 512)               262656    \n",
            "                                                                 \n",
            " dense_2 (Dense)             (None, 20)                10260     \n",
            "                                                                 \n",
            "=================================================================\n",
            "Total params: 16,044,628\n",
            "Trainable params: 15,780,116\n",
            "Non-trainable params: 264,512\n",
            "_________________________________________________________________\n"
          ]
        }
      ],
      "source": [
        "from tensorflow.keras.optimizers import Adam\n",
        "model.compile(Adam(learning_rate=0.0001), loss='categorical_crossentropy', metrics=['accuracy'])\n",
        "model.summary()"
      ]
    },
    {
      "cell_type": "markdown",
      "source": [
        "**Preprocessing Images**"
      ],
      "metadata": {
        "id": "yCCUEj6iLBkf"
      }
    },
    {
      "cell_type": "code",
      "execution_count": 24,
      "metadata": {
        "colab": {
          "base_uri": "https://localhost:8080/"
        },
        "id": "pKugEqCWRREF",
        "outputId": "4b63ab54-a207-4b5b-e3a5-e1efe1c57f99"
      },
      "outputs": [
        {
          "output_type": "stream",
          "name": "stdout",
          "text": [
            "Found 7000 images belonging to 20 classes.\n",
            "Found 1900 images belonging to 20 classes.\n"
          ]
        }
      ],
      "source": [
        "import tensorflow as tf\n",
        "from keras.preprocessing.image import ImageDataGenerator\n",
        "from keras.preprocessing import image\n",
        "\n",
        "train_datagen = ImageDataGenerator(rescale=1./227,\n",
        "                                   shear_range=0,\n",
        "                                   zoom_range=0,\n",
        "                                   width_shift_range=0,\n",
        "                                   height_shift_range=0,\n",
        "                                   fill_mode='nearest')\n",
        "\n",
        "valid_datagen = ImageDataGenerator(rescale=1./227,\n",
        "                                   shear_range=0,\n",
        "                                   zoom_range=0,\n",
        "                                   width_shift_range=0,\n",
        "                                   height_shift_range=0,\n",
        "                                   fill_mode='nearest')\n",
        "\n",
        "test_datagen = ImageDataGenerator(rescale=1./227,\n",
        "                                   shear_range=0,\n",
        "                                   zoom_range=0,\n",
        "                                   width_shift_range=0,\n",
        "                                   height_shift_range=0,\n",
        "                                   fill_mode='nearest')\n",
        "batch_size = 30\n",
        "\n",
        "base_dir = \"D:/Land use recognition/data\"\n",
        "\n",
        "training_set = train_datagen.flow_from_directory(base_dir+'/train',\n",
        "                                                 target_size=(64, 64),\n",
        "                                                 batch_size=batch_size,\n",
        "                                                 class_mode='categorical')\n",
        "valid_set = valid_datagen.flow_from_directory(base_dir+'/val',\n",
        "                                            target_size=(64, 64),\n",
        "                                            batch_size=batch_size,\n",
        "                                            class_mode='categorical')\n",
        "\n",
        "train_num = training_set.samples\n",
        "valid_num = valid_set.samples"
      ]
    },
    {
      "cell_type": "markdown",
      "source": [
        "**Setting checkpoints**"
      ],
      "metadata": {
        "id": "pXuXYpS6LJAe"
      }
    },
    {
      "cell_type": "code",
      "source": [
        "from keras.callbacks import ModelCheckpoint\n",
        "weightpath = \"D:/Land use recognition/Landweights.h5\"\n",
        "checkpoints = ModelCheckpoint(weightpath, monitor='val_accuracy', verbose=1, save_best_only=True, save_weights_only=True, mode='max')\n",
        "callback_list = [checkpoints]"
      ],
      "metadata": {
        "id": "WL1n-GV4dPWO"
      },
      "execution_count": 29,
      "outputs": []
    },
    {
      "cell_type": "markdown",
      "source": [
        "**Training the Simple CNN**"
      ],
      "metadata": {
        "id": "Yyi3aLTpLTYe"
      }
    },
    {
      "cell_type": "code",
      "execution_count": 30,
      "metadata": {
        "colab": {
          "base_uri": "https://localhost:8080/"
        },
        "id": "1xLXcsU7Rnlc",
        "outputId": "b6a08bc7-dfe8-4c90-d2cb-be79fe09a773"
      },
      "outputs": [
        {
          "output_type": "stream",
          "name": "stdout",
          "text": [
            "Epoch 1/10\n",
            "234/234 [==============================] - ETA: 0s - loss: 0.8771 - accuracy: 0.7261\n",
            "Epoch 00001: val_accuracy improved from -inf to 0.80211, saving model to D:/Land use recognition\\Landweights.h5\n",
            "234/234 [==============================] - 603s 3s/step - loss: 0.8771 - accuracy: 0.7261 - val_loss: 0.7317 - val_accuracy: 0.8021\n",
            "Epoch 2/10\n",
            "234/234 [==============================] - ETA: 0s - loss: 0.3033 - accuracy: 0.9041\n",
            "Epoch 00002: val_accuracy did not improve from 0.80211\n",
            "234/234 [==============================] - 633s 3s/step - loss: 0.3033 - accuracy: 0.9041 - val_loss: 0.7212 - val_accuracy: 0.7847\n",
            "Epoch 3/10\n",
            "234/234 [==============================] - ETA: 0s - loss: 0.2144 - accuracy: 0.9290\n",
            "Epoch 00003: val_accuracy improved from 0.80211 to 0.86895, saving model to D:/Land use recognition\\Landweights.h5\n",
            "234/234 [==============================] - 593s 3s/step - loss: 0.2144 - accuracy: 0.9290 - val_loss: 0.4514 - val_accuracy: 0.8689\n",
            "Epoch 4/10\n",
            "234/234 [==============================] - ETA: 0s - loss: 0.1349 - accuracy: 0.9591\n",
            "Epoch 00004: val_accuracy did not improve from 0.86895\n",
            "234/234 [==============================] - 590s 3s/step - loss: 0.1349 - accuracy: 0.9591 - val_loss: 0.5513 - val_accuracy: 0.8489\n",
            "Epoch 5/10\n",
            "234/234 [==============================] - ETA: 0s - loss: 0.1093 - accuracy: 0.9660\n",
            "Epoch 00005: val_accuracy improved from 0.86895 to 0.87368, saving model to D:/Land use recognition\\Landweights.h5\n",
            "234/234 [==============================] - 587s 3s/step - loss: 0.1093 - accuracy: 0.9660 - val_loss: 0.4603 - val_accuracy: 0.8737\n",
            "Epoch 6/10\n",
            "234/234 [==============================] - ETA: 0s - loss: 0.1098 - accuracy: 0.9669\n",
            "Epoch 00006: val_accuracy did not improve from 0.87368\n",
            "234/234 [==============================] - 580s 2s/step - loss: 0.1098 - accuracy: 0.9669 - val_loss: 0.6599 - val_accuracy: 0.8321\n",
            "Epoch 7/10\n",
            "234/234 [==============================] - ETA: 0s - loss: 0.1030 - accuracy: 0.9650\n",
            "Epoch 00007: val_accuracy improved from 0.87368 to 0.87789, saving model to D:/Land use recognition\\Landweights.h5\n",
            "234/234 [==============================] - 583s 2s/step - loss: 0.1030 - accuracy: 0.9650 - val_loss: 0.4786 - val_accuracy: 0.8779\n",
            "Epoch 8/10\n",
            "234/234 [==============================] - ETA: 0s - loss: 0.0638 - accuracy: 0.9813\n",
            "Epoch 00008: val_accuracy improved from 0.87789 to 0.90263, saving model to D:/Land use recognition\\Landweights.h5\n",
            "234/234 [==============================] - 583s 2s/step - loss: 0.0638 - accuracy: 0.9813 - val_loss: 0.3414 - val_accuracy: 0.9026\n",
            "Epoch 9/10\n",
            "234/234 [==============================] - ETA: 0s - loss: 0.0715 - accuracy: 0.9769\n",
            "Epoch 00009: val_accuracy improved from 0.90263 to 0.94474, saving model to D:/Land use recognition\\Landweights.h5\n",
            "234/234 [==============================] - 576s 2s/step - loss: 0.0715 - accuracy: 0.9769 - val_loss: 0.2258 - val_accuracy: 0.9447\n",
            "Epoch 10/10\n",
            "234/234 [==============================] - ETA: 0s - loss: 0.0541 - accuracy: 0.9836\n",
            "Epoch 00010: val_accuracy did not improve from 0.94474\n",
            "234/234 [==============================] - 577s 2s/step - loss: 0.0541 - accuracy: 0.9836 - val_loss: 0.3763 - val_accuracy: 0.8995\n"
          ]
        }
      ],
      "source": [
        "history = model.fit(training_set,\n",
        "                   validation_data=valid_set,\n",
        "                   epochs=10,\n",
        "                   callbacks=checkpoints)"
      ]
    },
    {
      "cell_type": "markdown",
      "source": [
        "**Saving**"
      ],
      "metadata": {
        "id": "r3CkwRUtLYrW"
      }
    },
    {
      "cell_type": "code",
      "execution_count": 31,
      "metadata": {
        "id": "RCwcBBBocEqt"
      },
      "outputs": [],
      "source": [
        "filepath=\"D:/Land use recognition/LandUseModel.h5\"\n",
        "model.save(filepath)"
      ]
    },
    {
      "cell_type": "markdown",
      "source": [
        "**Plotting accuracy and validation**"
      ],
      "metadata": {
        "id": "lt5lybjDLdup"
      }
    },
    {
      "cell_type": "code",
      "execution_count": 32,
      "metadata": {
        "id": "FclenwlucLTM",
        "colab": {
          "base_uri": "https://localhost:8080/",
          "height": 575
        },
        "outputId": "9a2d4335-ba86-4bdd-b3a2-93f68d115f9f"
      },
      "outputs": [
        {
          "output_type": "display_data",
          "data": {
            "text/plain": [
              "<Figure size 432x288 with 1 Axes>"
            ],
            "image/png": "[encoded data removed]"
          },
          "metadata": {}
        },
        {
          "output_type": "display_data",
          "data": {
            "text/plain": [
              "<Figure size 432x288 with 1 Axes>"
            ],
            "image/png": "[encoded data removed]"
          },
          "metadata": {}
        }
      ],
      "source": [
        "import matplotlib.pyplot as plt\n",
        "import seaborn as sns\n",
        "sns.set()\n",
        "\n",
        "acc = history.history['accuracy']\n",
        "val_acc = history.history['val_accuracy']\n",
        "loss = history.history['loss']\n",
        "val_loss = history.history['val_loss']\n",
        "epochs = range(1, len(loss) + 1)\n",
        "\n",
        "#accuracy plot\n",
        "plt.plot(epochs, acc, color='green', label='Training Accuracy')\n",
        "plt.plot(epochs, val_acc, color='blue', label='Validation Accuracy')\n",
        "plt.title('Training and Validation Accuracy')\n",
        "plt.ylabel('Accuracy')\n",
        "plt.xlabel('Epoch')\n",
        "plt.legend()\n",
        "\n",
        "plt.figure()\n",
        "#loss plot\n",
        "plt.plot(epochs, loss, color='pink', label='Training Loss')\n",
        "plt.plot(epochs, val_loss, color='red', label='Validation Loss')\n",
        "plt.title('Training and Validation Loss')\n",
        "plt.xlabel('Epoch')\n",
        "plt.ylabel('Loss')\n",
        "plt.legend()\n",
        "\n",
        "plt.show()"
      ]
    },
    {
      "cell_type": "markdown",
      "source": [
        "**Building another CNN using transfer learning**"
      ],
      "metadata": {
        "id": "BZF1K_-RLmrH"
      }
    },
    {
      "cell_type": "code",
      "source": [
        "vgg16_model = keras.applications.vgg16.VGG16(include_top=False, input_shape=(64,64,3))\n",
        "vgg16_model.summary()"
      ],
      "metadata": {
        "colab": {
          "base_uri": "https://localhost:8080/"
        },
        "id": "0JIPl6QDzDxZ",
        "outputId": "7173d17c-fd6f-45b1-bf64-f37ec69746af"
      },
      "execution_count": 33,
      "outputs": [
        {
          "output_type": "stream",
          "name": "stdout",
          "text": [
            "Model: \"vgg16\"\n",
            "_________________________________________________________________\n",
            " Layer (type)                Output Shape              Param #   \n",
            "=================================================================\n",
            " input_3 (InputLayer)        [(None, 64, 64, 3)]       0         \n",
            "                                                                 \n",
            " block1_conv1 (Conv2D)       (None, 64, 64, 64)        1792      \n",
            "                                                                 \n",
            " block1_conv2 (Conv2D)       (None, 64, 64, 64)        36928     \n",
            "                                                                 \n",
            " block1_pool (MaxPooling2D)  (None, 32, 32, 64)        0         \n",
            "                                                                 \n",
            " block2_conv1 (Conv2D)       (None, 32, 32, 128)       73856     \n",
            "                                                                 \n",
            " block2_conv2 (Conv2D)       (None, 32, 32, 128)       147584    \n",
            "                                                                 \n",
            " block2_pool (MaxPooling2D)  (None, 16, 16, 128)       0         \n",
            "                                                                 \n",
            " block3_conv1 (Conv2D)       (None, 16, 16, 256)       295168    \n",
            "                                                                 \n",
            " block3_conv2 (Conv2D)       (None, 16, 16, 256)       590080    \n",
            "                                                                 \n",
            " block3_conv3 (Conv2D)       (None, 16, 16, 256)       590080    \n",
            "                                                                 \n",
            " block3_pool (MaxPooling2D)  (None, 8, 8, 256)         0         \n",
            "                                                                 \n",
            " block4_conv1 (Conv2D)       (None, 8, 8, 512)         1180160   \n",
            "                                                                 \n",
            " block4_conv2 (Conv2D)       (None, 8, 8, 512)         2359808   \n",
            "                                                                 \n",
            " block4_conv3 (Conv2D)       (None, 8, 8, 512)         2359808   \n",
            "                                                                 \n",
            " block4_pool (MaxPooling2D)  (None, 4, 4, 512)         0         \n",
            "                                                                 \n",
            " block5_conv1 (Conv2D)       (None, 4, 4, 512)         2359808   \n",
            "                                                                 \n",
            " block5_conv2 (Conv2D)       (None, 4, 4, 512)         2359808   \n",
            "                                                                 \n",
            " block5_conv3 (Conv2D)       (None, 4, 4, 512)         2359808   \n",
            "                                                                 \n",
            " block5_pool (MaxPooling2D)  (None, 2, 2, 512)         0         \n",
            "                                                                 \n",
            "=================================================================\n",
            "Total params: 14,714,688\n",
            "Trainable params: 14,714,688\n",
            "Non-trainable params: 0\n",
            "_________________________________________________________________\n"
          ]
        }
      ]
    },
    {
      "cell_type": "code",
      "source": [
        "type(vgg16_model)"
      ],
      "metadata": {
        "colab": {
          "base_uri": "https://localhost:8080/"
        },
        "id": "XwET7Vz3zHBg",
        "outputId": "ccc66858-77f7-4189-9115-b628775dd16b"
      },
      "execution_count": 34,
      "outputs": [
        {
          "output_type": "execute_result",
          "data": {
            "text/plain": [
              "keras.engine.functional.Functional"
            ]
          },
          "metadata": {},
          "execution_count": 34
        }
      ]
    },
    {
      "cell_type": "code",
      "source": [
        "model = Sequential()\n",
        "for layer in vgg16_model.layers:\n",
        "    model.add(layer)\n",
        "model.summary()"
      ],
      "metadata": {
        "colab": {
          "base_uri": "https://localhost:8080/"
        },
        "id": "JhLhtYpNzYbB",
        "outputId": "a1da065a-253a-496b-de70-d300f72148b4"
      },
      "execution_count": 35,
      "outputs": [
        {
          "output_type": "stream",
          "name": "stdout",
          "text": [
            "Model: \"sequential_1\"\n",
            "_________________________________________________________________\n",
            " Layer (type)                Output Shape              Param #   \n",
            "=================================================================\n",
            " block1_conv1 (Conv2D)       (None, 64, 64, 64)        1792      \n",
            "                                                                 \n",
            " block1_conv2 (Conv2D)       (None, 64, 64, 64)        36928     \n",
            "                                                                 \n",
            " block1_pool (MaxPooling2D)  (None, 32, 32, 64)        0         \n",
            "                                                                 \n",
            " block2_conv1 (Conv2D)       (None, 32, 32, 128)       73856     \n",
            "                                                                 \n",
            " block2_conv2 (Conv2D)       (None, 32, 32, 128)       147584    \n",
            "                                                                 \n",
            " block2_pool (MaxPooling2D)  (None, 16, 16, 128)       0         \n",
            "                                                                 \n",
            " block3_conv1 (Conv2D)       (None, 16, 16, 256)       295168    \n",
            "                                                                 \n",
            " block3_conv2 (Conv2D)       (None, 16, 16, 256)       590080    \n",
            "                                                                 \n",
            " block3_conv3 (Conv2D)       (None, 16, 16, 256)       590080    \n",
            "                                                                 \n",
            " block3_pool (MaxPooling2D)  (None, 8, 8, 256)         0         \n",
            "                                                                 \n",
            " block4_conv1 (Conv2D)       (None, 8, 8, 512)         1180160   \n",
            "                                                                 \n",
            " block4_conv2 (Conv2D)       (None, 8, 8, 512)         2359808   \n",
            "                                                                 \n",
            " block4_conv3 (Conv2D)       (None, 8, 8, 512)         2359808   \n",
            "                                                                 \n",
            " block4_pool (MaxPooling2D)  (None, 4, 4, 512)         0         \n",
            "                                                                 \n",
            " block5_conv1 (Conv2D)       (None, 4, 4, 512)         2359808   \n",
            "                                                                 \n",
            " block5_conv2 (Conv2D)       (None, 4, 4, 512)         2359808   \n",
            "                                                                 \n",
            " block5_conv3 (Conv2D)       (None, 4, 4, 512)         2359808   \n",
            "                                                                 \n",
            " block5_pool (MaxPooling2D)  (None, 2, 2, 512)         0         \n",
            "                                                                 \n",
            "=================================================================\n",
            "Total params: 14,714,688\n",
            "Trainable params: 14,714,688\n",
            "Non-trainable params: 0\n",
            "_________________________________________________________________\n"
          ]
        }
      ]
    },
    {
      "cell_type": "code",
      "source": [
        "NUM_TRAINABLE_LAYERS = 10\n",
        "for layer in model.layers[:-NUM_TRAINABLE_LAYERS]:\n",
        "    layer.trainable = False"
      ],
      "metadata": {
        "id": "lEEEK73Fzf9v"
      },
      "execution_count": 36,
      "outputs": []
    },
    {
      "cell_type": "code",
      "source": [
        "model.add(Flatten())\n",
        "model.add(Dense(512, activation='relu'))\n",
        "model.add(Dense(512, activation='relu'))\n",
        "model.add(Dense(20, activation='softmax'))"
      ],
      "metadata": {
        "id": "eoa3gL7zzh7I"
      },
      "execution_count": 37,
      "outputs": []
    },
    {
      "cell_type": "code",
      "source": [
        "model.summary()"
      ],
      "metadata": {
        "colab": {
          "base_uri": "https://localhost:8080/"
        },
        "id": "jwBz_HWBzlYB",
        "outputId": "ebb7bc68-5b5f-47b6-f487-95d7fc53c454"
      },
      "execution_count": 38,
      "outputs": [
        {
          "output_type": "stream",
          "name": "stdout",
          "text": [
            "Model: \"sequential_1\"\n",
            "_________________________________________________________________\n",
            " Layer (type)                Output Shape              Param #   \n",
            "=================================================================\n",
            " block1_conv1 (Conv2D)       (None, 64, 64, 64)        1792      \n",
            "                                                                 \n",
            " block1_conv2 (Conv2D)       (None, 64, 64, 64)        36928     \n",
            "                                                                 \n",
            " block1_pool (MaxPooling2D)  (None, 32, 32, 64)        0         \n",
            "                                                                 \n",
            " block2_conv1 (Conv2D)       (None, 32, 32, 128)       73856     \n",
            "                                                                 \n",
            " block2_conv2 (Conv2D)       (None, 32, 32, 128)       147584    \n",
            "                                                                 \n",
            " block2_pool (MaxPooling2D)  (None, 16, 16, 128)       0         \n",
            "                                                                 \n",
            " block3_conv1 (Conv2D)       (None, 16, 16, 256)       295168    \n",
            "                                                                 \n",
            " block3_conv2 (Conv2D)       (None, 16, 16, 256)       590080    \n",
            "                                                                 \n",
            " block3_conv3 (Conv2D)       (None, 16, 16, 256)       590080    \n",
            "                                                                 \n",
            " block3_pool (MaxPooling2D)  (None, 8, 8, 256)         0         \n",
            "                                                                 \n",
            " block4_conv1 (Conv2D)       (None, 8, 8, 512)         1180160   \n",
            "                                                                 \n",
            " block4_conv2 (Conv2D)       (None, 8, 8, 512)         2359808   \n",
            "                                                                 \n",
            " block4_conv3 (Conv2D)       (None, 8, 8, 512)         2359808   \n",
            "                                                                 \n",
            " block4_pool (MaxPooling2D)  (None, 4, 4, 512)         0         \n",
            "                                                                 \n",
            " block5_conv1 (Conv2D)       (None, 4, 4, 512)         2359808   \n",
            "                                                                 \n",
            " block5_conv2 (Conv2D)       (None, 4, 4, 512)         2359808   \n",
            "                                                                 \n",
            " block5_conv3 (Conv2D)       (None, 4, 4, 512)         2359808   \n",
            "                                                                 \n",
            " block5_pool (MaxPooling2D)  (None, 2, 2, 512)         0         \n",
            "                                                                 \n",
            " flatten_1 (Flatten)         (None, 2048)              0         \n",
            "                                                                 \n",
            " dense_3 (Dense)             (None, 512)               1049088   \n",
            "                                                                 \n",
            " dense_4 (Dense)             (None, 512)               262656    \n",
            "                                                                 \n",
            " dense_5 (Dense)             (None, 20)                10260     \n",
            "                                                                 \n",
            "=================================================================\n",
            "Total params: 16,036,692\n",
            "Trainable params: 14,891,284\n",
            "Non-trainable params: 1,145,408\n",
            "_________________________________________________________________\n"
          ]
        }
      ]
    },
    {
      "cell_type": "code",
      "source": [
        "model.compile(Adam(learning_rate=0.0001), loss='categorical_crossentropy', metrics=['accuracy'])"
      ],
      "metadata": {
        "id": "0_c_l9MPzpN4"
      },
      "execution_count": 39,
      "outputs": []
    },
    {
      "cell_type": "markdown",
      "source": [
        "**Training the second model**"
      ],
      "metadata": {
        "id": "bWvNON06L5z2"
      }
    },
    {
      "cell_type": "code",
      "source": [
        "history = model.fit(training_set,\n",
        "                   validation_data=valid_set,\n",
        "                   epochs=10,\n",
        "                   callbacks=checkpoints)"
      ],
      "metadata": {
        "colab": {
          "base_uri": "https://localhost:8080/"
        },
        "id": "Vf1kJ5gTz4K4",
        "outputId": "da416299-1b10-42a7-8e2a-61b80fc4d89a"
      },
      "execution_count": 40,
      "outputs": [
        {
          "output_type": "stream",
          "name": "stdout",
          "text": [
            "Epoch 1/10\n",
            "234/234 [==============================] - 465s 2s/step - loss: 1.0005 - accuracy: 0.6694 - val_loss: 0.6071 - val_accuracy: 0.8074\n",
            "Epoch 2/10\n",
            "234/234 [==============================] - 461s 2s/step - loss: 0.3926 - accuracy: 0.8719 - val_loss: 0.3268 - val_accuracy: 0.8847\n",
            "Epoch 3/10\n",
            "234/234 [==============================] - 446s 2s/step - loss: 0.2167 - accuracy: 0.9319 - val_loss: 0.3120 - val_accuracy: 0.9105\n",
            "Epoch 4/10\n",
            "234/234 [==============================] - 441s 2s/step - loss: 0.1279 - accuracy: 0.9586 - val_loss: 0.3682 - val_accuracy: 0.8979\n",
            "Epoch 5/10\n",
            "234/234 [==============================] - 452s 2s/step - loss: 0.1215 - accuracy: 0.9610 - val_loss: 0.2343 - val_accuracy: 0.9242\n",
            "Epoch 6/10\n",
            "234/234 [==============================] - 459s 2s/step - loss: 0.0904 - accuracy: 0.9724 - val_loss: 0.2044 - val_accuracy: 0.9426\n",
            "Epoch 7/10\n",
            "234/234 [==============================] - 463s 2s/step - loss: 0.0815 - accuracy: 0.9743 - val_loss: 0.2387 - val_accuracy: 0.9279\n",
            "Epoch 8/10\n",
            "234/234 [==============================] - 462s 2s/step - loss: 0.0721 - accuracy: 0.9771 - val_loss: 0.1889 - val_accuracy: 0.9447\n",
            "Epoch 9/10\n",
            "234/234 [==============================] - 465s 2s/step - loss: 0.0769 - accuracy: 0.9773 - val_loss: 0.2423 - val_accuracy: 0.9316\n",
            "Epoch 10/10\n",
            "234/234 [==============================] - 471s 2s/step - loss: 0.0435 - accuracy: 0.9871 - val_loss: 0.3243 - val_accuracy: 0.9242\n"
          ]
        }
      ]
    },
    {
      "cell_type": "code",
      "source": [
        "filepath=\"D:/Land use recognition/LandUseModelFinaltransfer.h5\"\n",
        "model.save(filepath)"
      ],
      "metadata": {
        "id": "G5-Q_FqSHjYX"
      },
      "execution_count": 41,
      "outputs": []
    },
    {
      "cell_type": "markdown",
      "source": [
        "**Plotting accuracy and validation values**"
      ],
      "metadata": {
        "id": "RUP3d4yjL-9V"
      }
    },
    {
      "cell_type": "code",
      "source": [
        "acc = history.history['accuracy']\n",
        "val_acc = history.history['val_accuracy']\n",
        "loss = history.history['loss']\n",
        "val_loss = history.history['val_loss']\n",
        "\n",
        "epochs = range(len(acc))\n",
        "\n",
        "plt.plot(epochs, acc, 'bo', label='Training acc')\n",
        "plt.plot(epochs, val_acc, 'b', label='Validation acc')\n",
        "plt.title('Training and validation accuracy')\n",
        "plt.legend()\n",
        "\n",
        "plt.figure()\n",
        "\n",
        "plt.plot(epochs, loss, 'bo', label='Training loss')\n",
        "plt.plot(epochs, val_loss, 'b', label='Validation loss')\n",
        "plt.title('Training and validation loss')\n",
        "plt.legend()\n",
        "\n",
        "plt.show()"
      ],
      "metadata": {
        "colab": {
          "base_uri": "https://localhost:8080/",
          "height": 547
        },
        "id": "L8PzvA3eXFWk",
        "outputId": "3746b8b6-fabe-4daa-9c13-718a97655284"
      },
      "execution_count": 42,
      "outputs": [
        {
          "output_type": "display_data",
          "data": {
            "text/plain": [
              "<Figure size 432x288 with 1 Axes>"
            ],
            "image/png": "[encoded data removed]"
          },
          "metadata": {}
        },
        {
          "output_type": "display_data",
          "data": {
            "text/plain": [
              "<Figure size 432x288 with 1 Axes>"
            ],
            "image/png": "[encoded data removed]"
          },
          "metadata": {}
        }
      ]
    }
  ],
  "metadata": {
    "colab": {
      "collapsed_sections": [],
      "name": "Training.ipynb",
      "provenance": []
    },
    "kernelspec": {
      "display_name": "Python 3",
      "name": "python3"
    },
    "language_info": {
      "name": "python"
    },
    "accelerator": "GPU",
    "gpuClass": "standard"
  },
  "nbformat": 4,
  "nbformat_minor": 0
}